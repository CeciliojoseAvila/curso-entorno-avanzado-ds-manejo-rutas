{
 "cells": [
  {
   "cell_type": "markdown",
   "metadata": {},
   "source": [
    "# Paths management Platzi"
   ]
  },
  {
   "cell_type": "markdown",
   "metadata": {},
   "source": [
    "## Different python paths management systems"
   ]
  },
  {
   "cell_type": "markdown",
   "metadata": {},
   "source": [
    "### OS"
   ]
  },
  {
   "cell_type": "code",
   "execution_count": 4,
   "metadata": {},
   "outputs": [],
   "source": [
    "import os"
   ]
  },
  {
   "cell_type": "code",
   "execution_count": 5,
   "metadata": {},
   "outputs": [
    {
     "data": {
      "text/plain": [
       "'c:\\\\Users\\\\GERMAN\\\\OneDrive\\\\Escritorio\\\\curso-entorno-avanzado-ds-manejo-rutas\\\\notebooks'"
      ]
     },
     "execution_count": 5,
     "metadata": {},
     "output_type": "execute_result"
    }
   ],
   "source": [
    "os.getcwd()"
   ]
  },
  {
   "cell_type": "code",
   "execution_count": 6,
   "metadata": {},
   "outputs": [],
   "source": [
    "CURRENT_DIR = os.getcwd() \n",
    "\"\"\" os.path.join(CURRENT_DIR, os.pardir, \"data\", \"raw\") \"\"\"\n",
    "DATA_DIR = os.path.join(CURRENT_DIR, os.pardir, \"data\", \"raw\")"
   ]
  },
  {
   "cell_type": "code",
   "execution_count": 7,
   "metadata": {},
   "outputs": [
    {
     "data": {
      "text/plain": [
       "True"
      ]
     },
     "execution_count": 7,
     "metadata": {},
     "output_type": "execute_result"
    }
   ],
   "source": [
    "os.path.exists(DATA_DIR)\n",
    "os.path.isdir(DATA_DIR)"
   ]
  },
  {
   "cell_type": "code",
   "execution_count": 12,
   "metadata": {},
   "outputs": [
    {
     "name": "stdout",
     "output_type": "stream",
     "text": [
      "<class 'str'>\n",
      "c:\\Users\\GERMAN\\OneDrive\\Escritorio\\curso-entorno-avanzado-ds-manejo-rutas\n",
      "c:\\Users\\GERMAN\\OneDrive\\Escritorio\\curso-entorno-avanzado-ds-manejo-rutas\\notebooks\\..\\data/\n",
      "True\n",
      "True\n"
     ]
    }
   ],
   "source": [
    "CURRENT_DIR = os.getcwd() # Retrieve current directory\n",
    "\n",
    "print(type(CURRENT_DIR))\n",
    "\n",
    "print(os.path.abspath(os.path.join(CURRENT_DIR, os.pardir))) # parent directory...\n",
    "DATA_DIR = os.path.join(CURRENT_DIR, os.pardir, \"data/\") # os.pardir: ..\n",
    "\n",
    "print(DATA_DIR)\n",
    "print(os.path.exists(DATA_DIR))\n",
    "print(os.path.isdir(DATA_DIR))"
   ]
  },
  {
   "cell_type": "code",
   "execution_count": 11,
   "metadata": {},
   "outputs": [
    {
     "data": {
      "text/plain": [
       "['c:\\\\Users\\\\GERMAN\\\\OneDrive\\\\Escritorio\\\\curso-entorno-avanzado-ds-manejo-rutas\\\\notebooks\\\\..\\\\data\\\\raw\\\\.gitkeep']"
      ]
     },
     "execution_count": 11,
     "metadata": {},
     "output_type": "execute_result"
    }
   ],
   "source": [
    "[os.path.join(DATA_DIR, item) for item in os.listdir(DATA_DIR)]"
   ]
  },
  {
   "cell_type": "code",
   "execution_count": 13,
   "metadata": {},
   "outputs": [],
   "source": [
    "os.mkdir(os.path.join(DATA_DIR, \"external_os\"))"
   ]
  },
  {
   "cell_type": "code",
   "execution_count": 14,
   "metadata": {},
   "outputs": [],
   "source": [
    "os.makedirs(os.path.join(DATA_DIR, \"external_os\", \"os\", \"nested\"))"
   ]
  },
  {
   "cell_type": "markdown",
   "metadata": {},
   "source": [
    "### Pathlib"
   ]
  },
  {
   "cell_type": "code",
   "execution_count": 8,
   "metadata": {},
   "outputs": [],
   "source": [
    "import pathlib"
   ]
  },
  {
   "cell_type": "code",
   "execution_count": 9,
   "metadata": {},
   "outputs": [
    {
     "name": "stdout",
     "output_type": "stream",
     "text": [
      "<class 'pathlib.WindowsPath'>\n",
      "C:\\Users\\GERMAN\\OneDrive\\Escritorio\\curso-entorno-avanzado-ds-manejo-rutas\\data\n",
      "True\n",
      "True\n"
     ]
    }
   ],
   "source": [
    "CURRENT_DIR = pathlib.Path(\".\").resolve()\n",
    "print(type(CURRENT_DIR))\n",
    "\n",
    "DATA_DIR = CURRENT_DIR.parent.joinpath(\"data\") # CURRENT_DIR.parent / \"data\"\n",
    "print(DATA_DIR)\n",
    "print(DATA_DIR.exists())\n",
    "print(DATA_DIR.is_dir())"
   ]
  },
  {
   "cell_type": "code",
   "execution_count": 10,
   "metadata": {},
   "outputs": [
    {
     "data": {
      "text/plain": [
       "[WindowsPath('C:/Users/GERMAN/OneDrive/Escritorio/curso-entorno-avanzado-ds-manejo-rutas/data/external_pathlib'),\n",
       " WindowsPath('C:/Users/GERMAN/OneDrive/Escritorio/curso-entorno-avanzado-ds-manejo-rutas/data/processed'),\n",
       " WindowsPath('C:/Users/GERMAN/OneDrive/Escritorio/curso-entorno-avanzado-ds-manejo-rutas/data/raw')]"
      ]
     },
     "execution_count": 10,
     "metadata": {},
     "output_type": "execute_result"
    }
   ],
   "source": [
    "list(DATA_DIR.glob(\"*\"))"
   ]
  },
  {
   "cell_type": "code",
   "execution_count": 11,
   "metadata": {},
   "outputs": [],
   "source": [
    "DATA_DIR.joinpath(\"external_pathlib\", \"pathlib\", \"nested\").mkdir(parents=True, exist_ok=True)"
   ]
  },
  {
   "cell_type": "markdown",
   "metadata": {},
   "source": [
    "### fs"
   ]
  },
  {
   "cell_type": "code",
   "execution_count": 18,
   "metadata": {},
   "outputs": [
    {
     "name": "stdout",
     "output_type": "stream",
     "text": [
      "Collecting fs\n",
      "  Downloading fs-2.4.16-py2.py3-none-any.whl (135 kB)\n",
      "                                              0.0/135.3 kB ? eta -:--:--\n",
      "     ---                                      10.2/135.3 kB ? eta -:--:--\n",
      "     --------                              30.7/135.3 kB 325.1 kB/s eta 0:00:01\n",
      "     ----------------                      61.4/135.3 kB 469.7 kB/s eta 0:00:01\n",
      "     -----------------------------------  133.1/135.3 kB 871.5 kB/s eta 0:00:01\n",
      "     ------------------------------------ 135.3/135.3 kB 726.9 kB/s eta 0:00:00\n",
      "Collecting appdirs~=1.4.3 (from fs)\n",
      "  Downloading appdirs-1.4.4-py2.py3-none-any.whl (9.6 kB)\n",
      "Requirement already satisfied: setuptools in c:\\users\\german\\.conda\\envs\\cookiecutter-personal\\lib\\site-packages (from fs) (67.7.2)\n",
      "Requirement already satisfied: six~=1.10 in c:\\users\\german\\appdata\\roaming\\python\\python311\\site-packages (from fs) (1.16.0)\n",
      "Installing collected packages: appdirs, fs\n",
      "Successfully installed appdirs-1.4.4 fs-2.4.16\n"
     ]
    }
   ],
   "source": [
    "! pip install --user  fs "
   ]
  },
  {
   "cell_type": "code",
   "execution_count": 19,
   "metadata": {},
   "outputs": [],
   "source": [
    "import fs"
   ]
  },
  {
   "cell_type": "code",
   "execution_count": 23,
   "metadata": {},
   "outputs": [
    {
     "data": {
      "text/plain": [
       "OSFS('c:\\\\Users\\\\GERMAN\\\\OneDrive\\\\Escritorio\\\\curso-entorno-avanzado-ds-manejo-rutas\\\\notebooks')"
      ]
     },
     "execution_count": 23,
     "metadata": {},
     "output_type": "execute_result"
    }
   ],
   "source": [
    "fs.open_fs(\".\")"
   ]
  },
  {
   "cell_type": "code",
   "execution_count": 21,
   "metadata": {},
   "outputs": [
    {
     "name": "stdout",
     "output_type": "stream",
     "text": [
      "True\n"
     ]
    },
    {
     "ename": "IllegalBackReference",
     "evalue": "path '..' contains back-references outside of filesystem",
     "output_type": "error",
     "traceback": [
      "\u001b[1;31m---------------------------------------------------------------------------\u001b[0m",
      "\u001b[1;31mIndexError\u001b[0m                                Traceback (most recent call last)",
      "File \u001b[1;32m~\\AppData\\Roaming\\Python\\Python311\\site-packages\\fs\\path.py:85\u001b[0m, in \u001b[0;36mnormpath\u001b[1;34m(path)\u001b[0m\n\u001b[0;32m     84\u001b[0m     \u001b[39mif\u001b[39;00m component \u001b[39m==\u001b[39m \u001b[39m\"\u001b[39m\u001b[39m..\u001b[39m\u001b[39m\"\u001b[39m:\n\u001b[1;32m---> 85\u001b[0m         components\u001b[39m.\u001b[39;49mpop()\n\u001b[0;32m     86\u001b[0m \u001b[39melse\u001b[39;00m:\n",
      "\u001b[1;31mIndexError\u001b[0m: pop from empty list",
      "\nDuring handling of the above exception, another exception occurred:\n",
      "\u001b[1;31mIllegalBackReference\u001b[0m                      Traceback (most recent call last)",
      "Cell \u001b[1;32mIn[21], line 3\u001b[0m\n\u001b[0;32m      1\u001b[0m CURRENT_DIR \u001b[39m=\u001b[39m fs\u001b[39m.\u001b[39mopen_fs(\u001b[39m\"\u001b[39m\u001b[39m.\u001b[39m\u001b[39m\"\u001b[39m)\n\u001b[0;32m      2\u001b[0m \u001b[39mprint\u001b[39m(CURRENT_DIR\u001b[39m.\u001b[39mexists(\u001b[39m\"\u001b[39m\u001b[39m.\u001b[39m\u001b[39m\"\u001b[39m))\n\u001b[1;32m----> 3\u001b[0m CURRENT_DIR\u001b[39m.\u001b[39;49mexists(\u001b[39m\"\u001b[39;49m\u001b[39m..\u001b[39;49m\u001b[39m\"\u001b[39;49m)\n",
      "File \u001b[1;32m~\\AppData\\Roaming\\Python\\Python311\\site-packages\\fs\\base.py:525\u001b[0m, in \u001b[0;36mFS.exists\u001b[1;34m(self, path)\u001b[0m\n\u001b[0;32m    515\u001b[0m \u001b[39m\u001b[39m\u001b[39m\"\"\"Check if a path maps to a resource.\u001b[39;00m\n\u001b[0;32m    516\u001b[0m \n\u001b[0;32m    517\u001b[0m \u001b[39mArguments:\u001b[39;00m\n\u001b[1;32m   (...)\u001b[0m\n\u001b[0;32m    522\u001b[0m \n\u001b[0;32m    523\u001b[0m \u001b[39m\"\"\"\u001b[39;00m\n\u001b[0;32m    524\u001b[0m \u001b[39mtry\u001b[39;00m:\n\u001b[1;32m--> 525\u001b[0m     \u001b[39mself\u001b[39;49m\u001b[39m.\u001b[39;49mgetinfo(path)\n\u001b[0;32m    526\u001b[0m \u001b[39mexcept\u001b[39;00m errors\u001b[39m.\u001b[39mResourceNotFound:\n\u001b[0;32m    527\u001b[0m     \u001b[39mreturn\u001b[39;00m \u001b[39mFalse\u001b[39;00m\n",
      "File \u001b[1;32m~\\AppData\\Roaming\\Python\\Python311\\site-packages\\fs\\osfs.py:283\u001b[0m, in \u001b[0;36mOSFS.getinfo\u001b[1;34m(self, path, namespaces)\u001b[0m\n\u001b[0;32m    281\u001b[0m \u001b[39mself\u001b[39m\u001b[39m.\u001b[39mcheck()\n\u001b[0;32m    282\u001b[0m namespaces \u001b[39m=\u001b[39m namespaces \u001b[39mor\u001b[39;00m ()\n\u001b[1;32m--> 283\u001b[0m _path \u001b[39m=\u001b[39m \u001b[39mself\u001b[39;49m\u001b[39m.\u001b[39;49mvalidatepath(path)\n\u001b[0;32m    284\u001b[0m sys_path \u001b[39m=\u001b[39m \u001b[39mself\u001b[39m\u001b[39m.\u001b[39mgetsyspath(_path)\n\u001b[0;32m    285\u001b[0m _lstat \u001b[39m=\u001b[39m \u001b[39mNone\u001b[39;00m\n",
      "File \u001b[1;32m~\\AppData\\Roaming\\Python\\Python311\\site-packages\\fs\\osfs.py:686\u001b[0m, in \u001b[0;36mOSFS.validatepath\u001b[1;34m(self, path)\u001b[0m\n\u001b[0;32m    680\u001b[0m \u001b[39mexcept\u001b[39;00m \u001b[39mUnicodeEncodeError\u001b[39;00m \u001b[39mas\u001b[39;00m error:\n\u001b[0;32m    681\u001b[0m     \u001b[39mraise\u001b[39;00m errors\u001b[39m.\u001b[39mInvalidCharsInPath(\n\u001b[0;32m    682\u001b[0m         path,\n\u001b[0;32m    683\u001b[0m         msg\u001b[39m=\u001b[39m\u001b[39m\"\u001b[39m\u001b[39mpath \u001b[39m\u001b[39m'\u001b[39m\u001b[39m{path}\u001b[39;00m\u001b[39m'\u001b[39m\u001b[39m could not be encoded for the filesystem (check LANG\u001b[39m\u001b[39m\"\u001b[39m\n\u001b[0;32m    684\u001b[0m         \u001b[39m\"\u001b[39m\u001b[39m env var); \u001b[39m\u001b[39m{error}\u001b[39;00m\u001b[39m\"\u001b[39m\u001b[39m.\u001b[39mformat(path\u001b[39m=\u001b[39mpath, error\u001b[39m=\u001b[39merror),\n\u001b[0;32m    685\u001b[0m     )\n\u001b[1;32m--> 686\u001b[0m \u001b[39mreturn\u001b[39;00m \u001b[39msuper\u001b[39;49m(OSFS, \u001b[39mself\u001b[39;49m)\u001b[39m.\u001b[39;49mvalidatepath(path)\n",
      "File \u001b[1;32m~\\AppData\\Roaming\\Python\\Python311\\site-packages\\fs\\base.py:1594\u001b[0m, in \u001b[0;36mFS.validatepath\u001b[1;34m(self, path)\u001b[0m\n\u001b[0;32m   1592\u001b[0m             msg \u001b[39m=\u001b[39m _msg\u001b[39m.\u001b[39mformat(max_chars\u001b[39m=\u001b[39mmax_sys_path_length)\n\u001b[0;32m   1593\u001b[0m             \u001b[39mraise\u001b[39;00m errors\u001b[39m.\u001b[39mInvalidPath(path, msg\u001b[39m=\u001b[39mmsg)\n\u001b[1;32m-> 1594\u001b[0m path \u001b[39m=\u001b[39m abspath(normpath(path))\n\u001b[0;32m   1595\u001b[0m \u001b[39mreturn\u001b[39;00m path\n",
      "File \u001b[1;32m~\\AppData\\Roaming\\Python\\Python311\\site-packages\\fs\\path.py:90\u001b[0m, in \u001b[0;36mnormpath\u001b[1;34m(path)\u001b[0m\n\u001b[0;32m     87\u001b[0m             components\u001b[39m.\u001b[39mappend(component)\n\u001b[0;32m     88\u001b[0m \u001b[39mexcept\u001b[39;00m \u001b[39mIndexError\u001b[39;00m:\n\u001b[0;32m     89\u001b[0m     \u001b[39m# FIXME (@althonos): should be raised from the IndexError\u001b[39;00m\n\u001b[1;32m---> 90\u001b[0m     \u001b[39mraise\u001b[39;00m IllegalBackReference(path)\n\u001b[0;32m     91\u001b[0m \u001b[39mreturn\u001b[39;00m prefix \u001b[39m+\u001b[39m \u001b[39m\"\u001b[39m\u001b[39m/\u001b[39m\u001b[39m\"\u001b[39m\u001b[39m.\u001b[39mjoin(components)\n",
      "\u001b[1;31mIllegalBackReference\u001b[0m: path '..' contains back-references outside of filesystem"
     ]
    }
   ],
   "source": [
    "CURRENT_DIR = fs.open_fs(\".\")\n",
    "print(CURRENT_DIR.exists(\".\"))\n",
    "CURRENT_DIR.exists(\"..\")"
   ]
  },
  {
   "cell_type": "code",
   "execution_count": 24,
   "metadata": {},
   "outputs": [
    {
     "name": "stdout",
     "output_type": "stream",
     "text": [
      "True\n",
      "/.gitkeep\n",
      "\n"
     ]
    }
   ],
   "source": [
    "DATA_DIR = fs.open_fs(\"../data/raw/\")\n",
    "print(DATA_DIR.exists(\"\"))\n",
    "\n",
    "for path in DATA_DIR.walk.files(): # walk.dirs\n",
    "    print(path)\n",
    "\n",
    "    with DATA_DIR.open(path) as data_files:\n",
    "        print(data_files.readline())"
   ]
  },
  {
   "cell_type": "code",
   "execution_count": 25,
   "metadata": {},
   "outputs": [
    {
     "name": "stdout",
     "output_type": "stream",
     "text": [
      "/.gitkeep\n",
      "\n"
     ]
    }
   ],
   "source": [
    "for path in DATA_DIR.walk.files(): # walk.dirs\n",
    "    print(path)\n",
    "\n",
    "    with DATA_DIR.open(path) as data_files:\n",
    "        print(data_files.readline())"
   ]
  },
  {
   "cell_type": "code",
   "execution_count": 26,
   "metadata": {},
   "outputs": [
    {
     "data": {
      "text/plain": [
       "SubFS(OSFS('c:\\\\Users\\\\GERMAN\\\\OneDrive\\\\Escritorio\\\\curso-entorno-avanzado-ds-manejo-rutas\\\\data\\\\raw'), '/external_fs')"
      ]
     },
     "execution_count": 26,
     "metadata": {},
     "output_type": "execute_result"
    }
   ],
   "source": [
    "DATA_DIR.makedir(\"external_fs\", recreate=True)"
   ]
  },
  {
   "cell_type": "code",
   "execution_count": 29,
   "metadata": {},
   "outputs": [],
   "source": [
    "sub_data_dir = DATA_DIR.makedirs(\"data/DATOS/fs/nested\", recreate=True)"
   ]
  },
  {
   "cell_type": "code",
   "execution_count": 28,
   "metadata": {},
   "outputs": [
    {
     "ename": "ResourceNotFound",
     "evalue": "resource 'test' not found",
     "output_type": "error",
     "traceback": [
      "\u001b[1;31m---------------------------------------------------------------------------\u001b[0m",
      "\u001b[1;31mFileNotFoundError\u001b[0m                         Traceback (most recent call last)",
      "File \u001b[1;32m~\\AppData\\Roaming\\Python\\Python311\\site-packages\\fs\\osfs.py:334\u001b[0m, in \u001b[0;36mOSFS.makedir\u001b[1;34m(self, path, permissions, recreate)\u001b[0m\n\u001b[0;32m    333\u001b[0m \u001b[39mtry\u001b[39;00m:\n\u001b[1;32m--> 334\u001b[0m     os\u001b[39m.\u001b[39;49mmkdir(sys_path, mode)\n\u001b[0;32m    335\u001b[0m \u001b[39mexcept\u001b[39;00m \u001b[39mOSError\u001b[39;00m \u001b[39mas\u001b[39;00m error:\n",
      "\u001b[1;31mFileNotFoundError\u001b[0m: [WinError 3] El sistema no puede encontrar la ruta especificada: b'c:\\\\Users\\\\GERMAN\\\\OneDrive\\\\Escritorio\\\\curso-entorno-avanzado-ds-manejo-rutas\\\\data\\\\raw\\\\data\\\\DATOS\\\\fs\\\\nested\\\\test'",
      "\nDuring handling of the above exception, another exception occurred:\n",
      "\u001b[1;31mResourceNotFound\u001b[0m                          Traceback (most recent call last)",
      "Cell \u001b[1;32mIn[28], line 1\u001b[0m\n\u001b[1;32m----> 1\u001b[0m sub_data_dir\u001b[39m.\u001b[39;49mmakedir(\u001b[39m\"\u001b[39;49m\u001b[39mtest\u001b[39;49m\u001b[39m\"\u001b[39;49m)\n",
      "File \u001b[1;32m~\\AppData\\Roaming\\Python\\Python311\\site-packages\\fs\\wrapfs.py:169\u001b[0m, in \u001b[0;36mWrapFS.makedir\u001b[1;34m(self, path, permissions, recreate)\u001b[0m\n\u001b[0;32m    167\u001b[0m _fs, _path \u001b[39m=\u001b[39m \u001b[39mself\u001b[39m\u001b[39m.\u001b[39mdelegate_path(path)\n\u001b[0;32m    168\u001b[0m \u001b[39mwith\u001b[39;00m unwrap_errors(path):\n\u001b[1;32m--> 169\u001b[0m     \u001b[39mreturn\u001b[39;00m _fs\u001b[39m.\u001b[39;49mmakedir(_path, permissions\u001b[39m=\u001b[39;49mpermissions, recreate\u001b[39m=\u001b[39;49mrecreate)\n",
      "File \u001b[1;32m~\\AppData\\Roaming\\Python\\Python311\\site-packages\\fs\\osfs.py:337\u001b[0m, in \u001b[0;36mOSFS.makedir\u001b[1;34m(self, path, permissions, recreate)\u001b[0m\n\u001b[0;32m    335\u001b[0m \u001b[39mexcept\u001b[39;00m \u001b[39mOSError\u001b[39;00m \u001b[39mas\u001b[39;00m error:\n\u001b[0;32m    336\u001b[0m     \u001b[39mif\u001b[39;00m error\u001b[39m.\u001b[39merrno \u001b[39m==\u001b[39m errno\u001b[39m.\u001b[39mENOENT:\n\u001b[1;32m--> 337\u001b[0m         \u001b[39mraise\u001b[39;00m errors\u001b[39m.\u001b[39mResourceNotFound(path)\n\u001b[0;32m    338\u001b[0m     \u001b[39melif\u001b[39;00m error\u001b[39m.\u001b[39merrno \u001b[39m==\u001b[39m errno\u001b[39m.\u001b[39mEEXIST \u001b[39mand\u001b[39;00m recreate:\n\u001b[0;32m    339\u001b[0m         \u001b[39mpass\u001b[39;00m\n",
      "\u001b[1;31mResourceNotFound\u001b[0m: resource 'test' not found"
     ]
    }
   ],
   "source": [
    "sub_data_dir.makedir(\"test\")"
   ]
  },
  {
   "cell_type": "markdown",
   "metadata": {},
   "source": [
    "## Adding root to the project"
   ]
  },
  {
   "cell_type": "code",
   "execution_count": 31,
   "metadata": {},
   "outputs": [
    {
     "name": "stdout",
     "output_type": "stream",
     "text": [
      "Collecting pyprojroot\n",
      "  Downloading pyprojroot-0.3.0-py3-none-any.whl (7.6 kB)\n",
      "Requirement already satisfied: typing-extensions in c:\\users\\german\\.conda\\envs\\cookiecutter-personal\\lib\\site-packages (from pyprojroot) (4.6.2)\n",
      "Installing collected packages: pyprojroot\n",
      "Successfully installed pyprojroot-0.3.0\n"
     ]
    }
   ],
   "source": [
    "! pip install --user pyprojroot"
   ]
  },
  {
   "cell_type": "code",
   "execution_count": 32,
   "metadata": {},
   "outputs": [],
   "source": [
    "import pyprojroot"
   ]
  },
  {
   "cell_type": "code",
   "execution_count": 34,
   "metadata": {},
   "outputs": [
    {
     "data": {
      "text/plain": [
       "WindowsPath('c:/Users/GERMAN')"
      ]
     },
     "execution_count": 34,
     "metadata": {},
     "output_type": "execute_result"
    }
   ],
   "source": [
    "pyprojroot.here()"
   ]
  },
  {
   "cell_type": "code",
   "execution_count": 36,
   "metadata": {},
   "outputs": [
    {
     "data": {
      "text/plain": [
       "WindowsPath('c:/Users/GERMAN/data')"
      ]
     },
     "execution_count": 36,
     "metadata": {},
     "output_type": "execute_result"
    }
   ],
   "source": [
    "pyprojroot.here(\"data\").joinpath( )"
   ]
  },
  {
   "cell_type": "code",
   "execution_count": 33,
   "metadata": {},
   "outputs": [
    {
     "data": {
      "text/plain": [
       "WindowsPath('c:/Users/GERMAN/data/raw')"
      ]
     },
     "execution_count": 33,
     "metadata": {},
     "output_type": "execute_result"
    }
   ],
   "source": [
    "pyprojroot.here().joinpath(\"data\", \"raw\")"
   ]
  },
  {
   "cell_type": "code",
   "execution_count": 38,
   "metadata": {},
   "outputs": [
    {
     "name": "stdout",
     "output_type": "stream",
     "text": [
      "Collecting pyhere\n",
      "  Using cached pyhere-1.0.0-py3-none-any.whl (4.2 kB)\n",
      "Installing collected packages: pyhere\n",
      "Successfully installed pyhere-1.0.0\n"
     ]
    }
   ],
   "source": [
    "! pip install --user pyhere"
   ]
  },
  {
   "cell_type": "code",
   "execution_count": 39,
   "metadata": {},
   "outputs": [],
   "source": [
    "import pyhere"
   ]
  },
  {
   "cell_type": "code",
   "execution_count": 40,
   "metadata": {},
   "outputs": [
    {
     "data": {
      "text/plain": [
       "WindowsPath('c:/Users/GERMAN/OneDrive/Escritorio/curso-entorno-avanzado-ds-manejo-rutas/notebooks/../../../../data/raw')"
      ]
     },
     "execution_count": 40,
     "metadata": {},
     "output_type": "execute_result"
    }
   ],
   "source": [
    "pyhere.here(\"data\", \"raw\")"
   ]
  },
  {
   "cell_type": "code",
   "execution_count": 41,
   "metadata": {},
   "outputs": [
    {
     "data": {
      "text/plain": [
       "WindowsPath('C:/Users/GERMAN/data/raw')"
      ]
     },
     "execution_count": 41,
     "metadata": {},
     "output_type": "execute_result"
    }
   ],
   "source": [
    "pyhere.here().resolve()/\"data\"/\"raw\""
   ]
  },
  {
   "cell_type": "markdown",
   "metadata": {},
   "source": [
    "## Crete custom shortcuts"
   ]
  },
  {
   "cell_type": "code",
   "execution_count": 42,
   "metadata": {},
   "outputs": [],
   "source": [
    "# Nested function.\n",
    "def make_dir_function(dir_name):\n",
    "    def dir_function(*args):\n",
    "\n",
    "        if isinstance(dir_name, str):\n",
    "            return pyprojroot.here().joinpath(dir_name, *args)\n",
    "        else:\n",
    "            return pyprojroot.here().joinpath(*dir_name, *args)\n",
    "\n",
    "    return dir_function\n",
    "\n",
    "# Nested lambda.\n",
    "make_dir_function_lambda = lambda dir_name: lambda *args: pyprojroot.here().joinpath(dir_name, *args)"
   ]
  },
  {
   "cell_type": "code",
   "execution_count": 46,
   "metadata": {},
   "outputs": [],
   "source": [
    "make_dir_function(\"data\")\n",
    "notebooks_dir = make_dir_function(\"notebooks\")"
   ]
  },
  {
   "cell_type": "code",
   "execution_count": 44,
   "metadata": {},
   "outputs": [
    {
     "data": {
      "text/plain": [
       "WindowsPath('c:/Users/GERMAN/data/external/os/do')"
      ]
     },
     "execution_count": 44,
     "metadata": {},
     "output_type": "execute_result"
    }
   ],
   "source": [
    "data_dir = make_dir_function(\"data\")\n",
    "data_dir(\"external\", \"os\", \"do\")"
   ]
  },
  {
   "cell_type": "code",
   "execution_count": 45,
   "metadata": {},
   "outputs": [
    {
     "data": {
      "text/plain": [
       "WindowsPath('c:/Users/GERMAN/figures/amazing/plots/here')"
      ]
     },
     "execution_count": 45,
     "metadata": {},
     "output_type": "execute_result"
    }
   ],
   "source": [
    "figures_dir = make_dir_function_lambda(\"figures\")\n",
    "figures_dir(\"amazing\", \"plots\", \"here\")"
   ]
  }
 ],
 "metadata": {
  "interpreter": {
   "hash": "3667fd0dbc297d5226e7ef1885d67dce146a156d511bfd89bb3a337a239de6a8"
  },
  "kernelspec": {
   "display_name": "Python 3.9.6 64-bit ('paths_management_platzi': conda)",
   "name": "python3"
  },
  "language_info": {
   "codemirror_mode": {
    "name": "ipython",
    "version": 3
   },
   "file_extension": ".py",
   "mimetype": "text/x-python",
   "name": "python",
   "nbconvert_exporter": "python",
   "pygments_lexer": "ipython3",
   "version": "3.11.3"
  },
  "orig_nbformat": 4
 },
 "nbformat": 4,
 "nbformat_minor": 2
}
